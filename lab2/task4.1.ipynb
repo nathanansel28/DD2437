{
 "cells": [
  {
   "cell_type": "markdown",
   "metadata": {},
   "source": [
    "# 4.1 Topological Ordering of Animal Species"
   ]
  },
  {
   "cell_type": "code",
   "execution_count": 1,
   "metadata": {},
   "outputs": [
    {
     "name": "stdout",
     "output_type": "stream",
     "text": [
      "0: ['antelop']\n",
      "2: ['moskito']\n",
      "7: ['penguin']\n",
      "11: ['butterfly']\n",
      "12: ['spider']\n",
      "15: ['pelican']\n",
      "16: ['seaturtle']\n",
      "18: ['grasshopper']\n",
      "26: ['dragonfly']\n",
      "33: ['pig']\n",
      "37: ['cat']\n",
      "39: ['lion', 'skunk']\n",
      "43: ['dog', 'horse', 'rat']\n",
      "46: ['beetle']\n",
      "47: ['elephant']\n",
      "49: ['rabbit']\n",
      "55: ['bear']\n",
      "60: ['kangaroo']\n",
      "65: ['hyena']\n",
      "67: ['camel', 'giraffe']\n",
      "69: ['bat']\n",
      "71: ['housefly']\n",
      "74: ['ostrich']\n",
      "80: ['walrus']\n",
      "84: ['duck']\n",
      "90: ['ape']\n",
      "93: ['crocodile']\n",
      "94: ['frog']\n"
     ]
    }
   ],
   "source": [
    "from tools import AnimalSOM\n",
    "\n",
    "som = AnimalSOM(use_neighbourhood=False)\n",
    "som.fit()   \n",
    "predictions = som.predict()\n",
    "\n",
    "for node, animals in predictions.items():\n",
    "    print(f\"{node}: {animals}\")"
   ]
  },
  {
   "cell_type": "code",
   "execution_count": 2,
   "metadata": {},
   "outputs": [
    {
     "name": "stdout",
     "output_type": "stream",
     "text": [
      "1: ['bear', 'hyena']\n",
      "2: ['beetle', 'butterfly', 'dragonfly', 'grasshopper', 'housefly', 'moskito']\n",
      "5: ['cat']\n",
      "6: ['lion', 'rat']\n",
      "9: ['spider']\n",
      "12: ['seaturtle', 'skunk']\n",
      "13: ['crocodile']\n",
      "15: ['frog']\n",
      "17: ['ostrich']\n",
      "22: ['duck', 'pelican', 'penguin']\n",
      "39: ['camel']\n",
      "40: ['horse']\n",
      "42: ['giraffe']\n",
      "45: ['ape', 'bat', 'pig']\n",
      "79: ['walrus']\n",
      "82: ['antelop', 'elephant', 'kangaroo', 'rabbit']\n",
      "91: ['dog']\n"
     ]
    }
   ],
   "source": [
    "som_neighbourhood = AnimalSOM()\n",
    "som_neighbourhood.fit()   \n",
    "predictions = som_neighbourhood.predict()\n",
    "\n",
    "for node, animals in predictions.items():\n",
    "    print(f\"{node}: {animals}\")"
   ]
  },
  {
   "cell_type": "code",
   "execution_count": null,
   "metadata": {},
   "outputs": [],
   "source": []
  }
 ],
 "metadata": {
  "kernelspec": {
   "display_name": "venv",
   "language": "python",
   "name": "python3"
  },
  "language_info": {
   "codemirror_mode": {
    "name": "ipython",
    "version": 3
   },
   "file_extension": ".py",
   "mimetype": "text/x-python",
   "name": "python",
   "nbconvert_exporter": "python",
   "pygments_lexer": "ipython3",
   "version": "3.11.6"
  }
 },
 "nbformat": 4,
 "nbformat_minor": 2
}
