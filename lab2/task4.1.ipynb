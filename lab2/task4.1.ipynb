{
 "cells": [
  {
   "cell_type": "markdown",
   "metadata": {},
   "source": [
    "# 4.1 Topological Ordering of Animal Species"
   ]
  },
  {
   "cell_type": "code",
   "execution_count": 5,
   "metadata": {},
   "outputs": [
    {
     "name": "stdout",
     "output_type": "stream",
     "text": [
      "1: ['bear', 'hyena']\n",
      "2: ['beetle', 'butterfly', 'dragonfly', 'grasshopper', 'housefly', 'moskito']\n",
      "5: ['cat']\n",
      "6: ['lion', 'rat']\n",
      "9: ['spider']\n",
      "12: ['seaturtle', 'skunk']\n",
      "13: ['crocodile']\n",
      "15: ['frog']\n",
      "17: ['ostrich']\n",
      "22: ['duck', 'pelican', 'penguin']\n",
      "39: ['camel']\n",
      "40: ['horse']\n",
      "42: ['giraffe']\n",
      "45: ['ape', 'bat', 'pig']\n",
      "79: ['walrus']\n",
      "82: ['antelop', 'elephant', 'kangaroo', 'rabbit']\n",
      "91: ['dog']\n"
     ]
    }
   ],
   "source": [
    "from tools import AnimalSOM\n",
    "\n",
    "som = AnimalSOM()\n",
    "som.fit()   \n",
    "predictions = som.predict()\n",
    "\n",
    "for node, animals in predictions.items():\n",
    "    print(f\"{node}: {animals}\")"
   ]
  }
 ],
 "metadata": {
  "kernelspec": {
   "display_name": "venv",
   "language": "python",
   "name": "python3"
  },
  "language_info": {
   "codemirror_mode": {
    "name": "ipython",
    "version": 3
   },
   "file_extension": ".py",
   "mimetype": "text/x-python",
   "name": "python",
   "nbconvert_exporter": "python",
   "pygments_lexer": "ipython3",
   "version": "3.11.6"
  }
 },
 "nbformat": 4,
 "nbformat_minor": 2
}
