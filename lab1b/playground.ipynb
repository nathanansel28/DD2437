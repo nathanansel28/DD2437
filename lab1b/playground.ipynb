{
 "cells": [
  {
   "cell_type": "code",
   "execution_count": null,
   "metadata": {},
   "outputs": [],
   "source": [
    "import matplotlib.pyplot as plt\n",
    "import numpy as np\n",
    "from tools import generate_dataset\n",
    "from tools import MultiLayerPerceptronClassifier\n",
    "\n",
    "data, labels = generate_dataset()\n",
    "MLP = MultiLayerPerceptronClassifier(n_layers=5, n_nodes=15)\n",
    "MLP.fit(X=data, y=labels, learn_rate=0.01, epochs=10)\n",
    "# ValueError: shapes (3,1) and (3,200) not aligned: 1 (dim 1) != 3 (dim 0)"
   ]
  },
  {
   "cell_type": "code",
   "execution_count": null,
   "metadata": {},
   "outputs": [],
   "source": [
    "print(MLP.weights[0])\n",
    "print(MLP.weights[1])\n",
    "# print(MLP.weights[2])\n",
    "# print(MLP.weights[3])"
   ]
  },
  {
   "cell_type": "code",
   "execution_count": null,
   "metadata": {},
   "outputs": [],
   "source": [
    "print(len(data))"
   ]
  },
  {
   "cell_type": "code",
   "execution_count": null,
   "metadata": {},
   "outputs": [],
   "source": [
    "for weight in MLP.weights: \n",
    "    print(weight, \"\\n\")"
   ]
  },
  {
   "cell_type": "code",
   "execution_count": null,
   "metadata": {},
   "outputs": [],
   "source": [
    "print(MLP.weights[0].shape)\n",
    "\n",
    "# for weight in MLP.weights: \n",
    "#     print(weight.shape)\n",
    "\n",
    "# print(data.shape)\n",
    "# print(labels.shape)\n",
    "# len(np.unique(labels))\n",
    "\n",
    "rndg = np.random.default_rng(seed=20250128)\n",
    "num_classes = len(np.unique(labels))\n",
    "weights = rndg.random((\n",
    "    data.shape[0] + 1, 1 if num_classes == 2 else num_classes\n",
    ")) * 0.1 - 0.05\n",
    "\n",
    "print(weights)\n",
    "print(weights.shape)\n",
    "\n",
    "# np.random.default_rng(seed=20250128).random((3,4))\n",
    "from tools import add_bias \n",
    "print(data.shape)\n",
    "print(add_bias(data).shape)\n",
    "result = np.dot(np.transpose(weights), add_bias(data))\n",
    "print(result.shape)"
   ]
  },
  {
   "cell_type": "code",
   "execution_count": null,
   "metadata": {},
   "outputs": [],
   "source": []
  }
 ],
 "metadata": {
  "kernelspec": {
   "display_name": "venv",
   "language": "python",
   "name": "python3"
  },
  "language_info": {
   "codemirror_mode": {
    "name": "ipython",
    "version": 3
   },
   "file_extension": ".py",
   "mimetype": "text/x-python",
   "name": "python",
   "nbconvert_exporter": "python",
   "pygments_lexer": "ipython3",
   "version": "3.11.6"
  }
 },
 "nbformat": 4,
 "nbformat_minor": 2
}
