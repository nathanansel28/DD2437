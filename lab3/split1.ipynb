{
 "cells": [
  {
   "cell_type": "markdown",
   "metadata": {
    "vscode": {
     "languageId": "plaintext"
    }
   },
   "source": [
    "# Split 1"
   ]
  },
  {
   "cell_type": "markdown",
   "metadata": {},
   "source": [
    "## Hebbian learning (3.1)"
   ]
  },
  {
   "cell_type": "code",
   "execution_count": 5,
   "metadata": {},
   "outputs": [],
   "source": [
    "import numpy as np\n",
    "\n",
    "patterns = np.array(\n",
    "    [\n",
    "        [-1, -1, 1, -1, 1, -1, -1, 1],\n",
    "        [-1, -1, -1, -1, -1, 1, -1, -1],\n",
    "        [-1, 1, 1, -1, -1, 1, -1, 1],\n",
    "    ]\n",
    ")\n",
    "\n",
    "cues = np.array(\n",
    "    [\n",
    "        [1, -1, 1, -1, 1, -1, -1, 1],\n",
    "        [1, 1, -1, -1, -1, 1, -1, -1],\n",
    "        [1, 1, 1, -1, 1, 1, -1, 1],\n",
    "    ]\n",
    ")"
   ]
  },
  {
   "cell_type": "code",
   "execution_count": 6,
   "metadata": {},
   "outputs": [
    {
     "name": "stdout",
     "output_type": "stream",
     "text": [
      "[[-1. -1.  1. -1.  1. -1. -1.  1.]\n",
      " [-1.  1. -1. -1. -1.  1. -1. -1.]\n",
      " [-1.  1.  1. -1.  1.  1. -1.  1.]]\n"
     ]
    }
   ],
   "source": [
    "from tools import HopfieldNetwork\n",
    "\n",
    "h = HopfieldNetwork(8)\n",
    "h.fit(patterns)\n",
    "\n",
    "out = h.recall(cues)\n",
    "print(out)"
   ]
  }
 ],
 "metadata": {
  "kernelspec": {
   "display_name": "Python 3",
   "language": "python",
   "name": "python3"
  },
  "language_info": {
   "codemirror_mode": {
    "name": "ipython",
    "version": 3
   },
   "file_extension": ".py",
   "mimetype": "text/x-python",
   "name": "python",
   "nbconvert_exporter": "python",
   "pygments_lexer": "ipython3",
   "version": "3.11.5"
  }
 },
 "nbformat": 4,
 "nbformat_minor": 2
}
