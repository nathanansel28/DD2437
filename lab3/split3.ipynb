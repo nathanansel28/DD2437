{
 "cells": [
  {
   "cell_type": "code",
   "execution_count": 1,
   "metadata": {},
   "outputs": [],
   "source": [
    "from tools import HopfieldNetwork\n",
    "import numpy as np"
   ]
  },
  {
   "cell_type": "code",
   "execution_count": 2,
   "metadata": {},
   "outputs": [],
   "source": [
    "for i in range(1, 10): \n",
    "    hn = HopfieldNetwork(1024)\n",
    "    pattern_indices = [x for x in range(1, i+1)]\n",
    "    hn.fit(pattern_indices=pattern_indices)\n",
    "\n",
    "    distorted_memories = hn.distort_patterns(\n",
    "        num_units=32,\n",
    "        pattern_indices=pattern_indices\n",
    "    )\n",
    "\n",
    "    patterns_pred = hn.recall(inputs=distorted_memories)\n",
    "    results = hn.evaluate(\n",
    "        patterns_pred=patterns_pred,\n",
    "        pattern_indices=pattern_indices\n",
    "    )\n",
    "    print(results)\n"
   ]
  },
  {
   "cell_type": "code",
   "execution_count": null,
   "metadata": {},
   "outputs": [],
   "source": []
  },
  {
   "cell_type": "code",
   "execution_count": 3,
   "metadata": {},
   "outputs": [],
   "source": []
  },
  {
   "cell_type": "code",
   "execution_count": null,
   "metadata": {},
   "outputs": [],
   "source": []
  }
 ],
 "metadata": {
  "kernelspec": {
   "display_name": "venv",
   "language": "python",
   "name": "python3"
  },
  "language_info": {
   "codemirror_mode": {
    "name": "ipython",
    "version": 3
   },
   "file_extension": ".py",
   "mimetype": "text/x-python",
   "name": "python",
   "nbconvert_exporter": "python",
   "pygments_lexer": "ipython3",
   "version": "3.11.6"
  }
 },
 "nbformat": 4,
 "nbformat_minor": 2
}
