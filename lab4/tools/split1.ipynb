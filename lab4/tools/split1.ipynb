{
 "cells": [
  {
   "cell_type": "code",
   "execution_count": null,
   "metadata": {},
   "outputs": [],
   "source": [
    "import numpy as np\n",
    "import matplotlib.pyplot as plt"
   ]
  },
  {
   "cell_type": "code",
   "execution_count": null,
   "metadata": {},
   "outputs": [],
   "source": [
    "import numpy as np\n",
    "import matplotlib.pyplot as plt\n",
    "from util import load_idxfile\n",
    "from mlxtend.data import loadlocal_mnist\n",
    "\n",
    "# X_train = load_idxfile('..//data//train-images-idx3-ubyte') \n",
    "# y_train = load_idxfile('..//data//train-labels-idx1-ubyte')\n",
    "# X_test = load_idxfile('..//data//t10k-images-idx3-ubyte')\n",
    "# y_test = load_idxfile('..//data//t10k-labels-idx1-ubyte')\n",
    "\n",
    "X_train, y_train = loadlocal_mnist(\n",
    "    images_path='..//data//train-images-idx3-ubyte', \n",
    "    labels_path='..//data//train-labels-idx1-ubyte'\n",
    ")\n",
    "X_test, y_test = loadlocal_mnist(\n",
    "    images_path='..//data//t10k-images-idx3-ubyte', \n",
    "    labels_path='..//data//t10k-labels-idx1-ubyte'\n",
    ")\n",
    "\n",
    "\n",
    "\n",
    "from rbm import RestrictedBoltzmannMachine\n",
    "network_size = 784\n",
    "rbm = RestrictedBoltzmannMachine(\n",
    "    ndim_visible=network_size, ndim_hidden=network_size, batch_size=20\n",
    ")"
   ]
  },
  {
   "cell_type": "code",
   "execution_count": null,
   "metadata": {},
   "outputs": [],
   "source": [
    "rbm.cd1(X_train)"
   ]
  },
  {
   "cell_type": "code",
   "execution_count": null,
   "metadata": {},
   "outputs": [],
   "source": []
  },
  {
   "cell_type": "code",
   "execution_count": null,
   "metadata": {},
   "outputs": [],
   "source": []
  },
  {
   "cell_type": "code",
   "execution_count": null,
   "metadata": {},
   "outputs": [],
   "source": []
  },
  {
   "cell_type": "code",
   "execution_count": null,
   "metadata": {},
   "outputs": [],
   "source": []
  }
 ],
 "metadata": {
  "kernelspec": {
   "display_name": "venv",
   "language": "python",
   "name": "python3"
  },
  "language_info": {
   "codemirror_mode": {
    "name": "ipython",
    "version": 3
   },
   "file_extension": ".py",
   "mimetype": "text/x-python",
   "name": "python",
   "nbconvert_exporter": "python",
   "pygments_lexer": "ipython3",
   "version": "3.11.6"
  }
 },
 "nbformat": 4,
 "nbformat_minor": 2
}
