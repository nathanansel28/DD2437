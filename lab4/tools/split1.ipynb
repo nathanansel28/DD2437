{
 "cells": [
  {
   "cell_type": "code",
   "execution_count": null,
   "metadata": {},
   "outputs": [],
   "source": [
    "import numpy as np\n",
    "import matplotlib.pyplot as plt"
   ]
  },
  {
   "cell_type": "code",
   "execution_count": null,
   "metadata": {},
   "outputs": [],
   "source": [
    "import numpy as np\n",
    "import matplotlib.pyplot as plt\n",
    "from util import load_idxfile\n",
    "from mlxtend.data import loadlocal_mnist\n",
    "\n",
    "# X_train = load_idxfile('..//data//train-images-idx3-ubyte') \n",
    "# y_train = load_idxfile('..//data//train-labels-idx1-ubyte')\n",
    "# X_test = load_idxfile('..//data//t10k-images-idx3-ubyte')\n",
    "# y_test = load_idxfile('..//data//t10k-labels-idx1-ubyte')\n",
    "\n",
    "X_train, y_train = loadlocal_mnist(\n",
    "    images_path='..//data//train-images-idx3-ubyte', \n",
    "    labels_path='..//data//train-labels-idx1-ubyte'\n",
    ")\n",
    "X_test, y_test = loadlocal_mnist(\n",
    "    images_path='..//data//t10k-images-idx3-ubyte', \n",
    "    labels_path='..//data//t10k-labels-idx1-ubyte'\n",
    ")\n",
    "\n",
    "\n",
    "\n",
    "from rbm import RestrictedBoltzmannMachine\n",
    "rbm = RestrictedBoltzmannMachine(\n",
    "    ndim_visible=784, ndim_hidden=500, batch_size=20\n",
    ")"
   ]
  },
  {
   "cell_type": "code",
   "execution_count": null,
   "metadata": {},
   "outputs": [],
   "source": [
    "rbm.cd1(X_train)"
   ]
  },
  {
   "cell_type": "code",
   "execution_count": null,
   "metadata": {},
   "outputs": [],
   "source": [
    "from util import sigmoid\n",
    "\n",
    "prob = sigmoid(rbm.bias_h + X_train[:20] @ rbm.weight_vh)\n",
    "hidden_minibatch = (np.random.rand(*prob.shape) < prob).astype(np.float32)\n",
    "result = hidden_minibatch @ rbm.weight_vh.T\n",
    "result.shape"
   ]
  },
  {
   "cell_type": "code",
   "execution_count": null,
   "metadata": {},
   "outputs": [],
   "source": [
    "hidden_minibatch.shape"
   ]
  },
  {
   "cell_type": "code",
   "execution_count": null,
   "metadata": {},
   "outputs": [],
   "source": [
    "rbm.weight_vh.T.shape"
   ]
  }
 ],
 "metadata": {
  "kernelspec": {
   "display_name": "venv",
   "language": "python",
   "name": "python3"
  },
  "language_info": {
   "codemirror_mode": {
    "name": "ipython",
    "version": 3
   },
   "file_extension": ".py",
   "mimetype": "text/x-python",
   "name": "python",
   "nbconvert_exporter": "python",
   "pygments_lexer": "ipython3",
   "version": "3.11.6"
  }
 },
 "nbformat": 4,
 "nbformat_minor": 2
}
